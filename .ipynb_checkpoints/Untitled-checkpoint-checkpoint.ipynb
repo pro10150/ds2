{
 "cells": [
  {
   "cell_type": "code",
   "execution_count": 2,
   "id": "9a06f9d4-736e-4ee1-bb2b-934a83024a7f",
   "metadata": {},
   "outputs": [],
   "source": [
    "import pandas as pd\n",
    "import numpy as np"
   ]
  },
  {
   "cell_type": "code",
   "execution_count": 3,
   "id": "7962f575-cb87-4719-a8b5-bb4759ef8e3c",
   "metadata": {},
   "outputs": [],
   "source": [
    "data = pd.read_csv('owid-covid-data.csv')"
   ]
  },
  {
   "cell_type": "code",
   "execution_count": null,
   "id": "830f90f3-4174-451e-8526-0a1e3a27466d",
   "metadata": {},
   "outputs": [],
   "source": []
  }
 ],
 "metadata": {
  "kernelspec": {
   "display_name": "Python 3",
   "language": "python",
   "name": "python3"
  },
  "language_info": {
   "codemirror_mode": {
    "name": "ipython",
    "version": 3
   },
   "file_extension": ".py",
   "mimetype": "text/x-python",
   "name": "python",
   "nbconvert_exporter": "python",
   "pygments_lexer": "ipython3",
   "version": "3.8.8"
  }
 },
 "nbformat": 4,
 "nbformat_minor": 5
}
